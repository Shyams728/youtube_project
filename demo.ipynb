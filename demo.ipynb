{
 "cells": [
  {
   "cell_type": "code",
   "execution_count": 1,
   "metadata": {},
   "outputs": [
    {
     "name": "stdout",
     "output_type": "stream",
     "text": [
      "Authtoken saved to configuration file: /home/user/.config/ngrok/ngrok.yml\n"
     ]
    }
   ],
   "source": [
    "from pyngrok import ngrok\n",
    "!ngrok authtoken xyz"
   ]
  },
  {
   "cell_type": "code",
   "execution_count": null,
   "metadata": {},
   "outputs": [],
   "source": [
    "# Step 13: Start Streamlit in the background\n",
    "get_ipython().system_raw('nohup streamlit run main_streamlit.py &')\n",
    "# Use ngrok to create a public URL for the Streamlit app\n",
    "ngrok_tunnel_streamlit = ngrok.connect(addr=\"8501\", proto=\"http\", bind_tls=True)\n",
    "# Print the public URL for Streamlit app\n",
    "print(\"Streamlit app can be accessed at:\", ngrok_tunnel_streamlit.public_url)"
   ]
  },
  {
   "cell_type": "code",
   "execution_count": 9,
   "metadata": {},
   "outputs": [],
   "source": [
    "# Stop ngrok\n",
    "!pkill ngrok"
   ]
  },
  {
   "cell_type": "code",
   "execution_count": 8,
   "metadata": {},
   "outputs": [
    {
     "data": {
      "text/plain": [
       "{'Channel_Name': 'Krishnavi',\n",
       " 'Channel_ID': 'UClBZS8yeHeMtQwTjXGmu0PQ',\n",
       " 'Subscription_Count': '2210',\n",
       " 'Channel_Views': '182412',\n",
       " 'Channel_Description': '\\n',\n",
       " 'Playlist_ID': 'UUlBZS8yeHeMtQwTjXGmu0PQ'}"
      ]
     },
     "execution_count": 8,
     "metadata": {},
     "output_type": "execute_result"
    }
   ],
   "source": [
    "pipeline.get_channel_data(channel_id)"
   ]
  },
  {
   "cell_type": "code",
   "execution_count": 8,
   "metadata": {},
   "outputs": [
    {
     "data": {
      "text/plain": [
       "{'Channel_Name': 'Krishnavi',\n",
       " 'Channel_ID': 'UClBZS8yeHeMtQwTjXGmu0PQ',\n",
       " 'Subscription_Count': '2210',\n",
       " 'Channel_Views': '182375',\n",
       " 'Channel_Description': '\\n',\n",
       " 'Playlist_ID': 'UUlBZS8yeHeMtQwTjXGmu0PQ'}"
      ]
     },
     "execution_count": 8,
     "metadata": {},
     "output_type": "execute_result"
    }
   ],
   "source": [
    "pipeline.mongodb_channel_data(channel_id)"
   ]
  },
  {
   "cell_type": "code",
   "execution_count": null,
   "metadata": {},
   "outputs": [],
   "source": [
    "pipeline.sql_query(f\"select * from channels where channel_id ='{channel_id}'\")"
   ]
  }
 ],
 "metadata": {
  "kernelspec": {
   "display_name": ".venv",
   "language": "python",
   "name": "python3"
  },
  "language_info": {
   "codemirror_mode": {
    "name": "ipython",
    "version": 3
   },
   "file_extension": ".py",
   "mimetype": "text/x-python",
   "name": "python",
   "nbconvert_exporter": "python",
   "pygments_lexer": "ipython3",
   "version": "3.10.13"
  }
 },
 "nbformat": 4,
 "nbformat_minor": 2
}
