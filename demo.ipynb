{
 "cells": [
  {
   "cell_type": "code",
   "execution_count": 1,
   "metadata": {},
   "outputs": [
    {
     "name": "stdout",
     "output_type": "stream",
     "text": [
      "Downloading ngrok ...\r"
     ]
    },
    {
     "name": "stdout",
     "output_type": "stream",
     "text": [
      "Authtoken saved to configuration file: /home/user/.config/ngrok/ngrok.yml                           \n"
     ]
    }
   ],
   "source": [
    "from pyngrok import ngrok\n",
    "!ngrok authtoken 2ZjwOwRMWe1xdOQuhwti9eQTXBA_45bBvrKJqeZy7foGQgYWA"
   ]
  },
  {
   "cell_type": "code",
   "execution_count": null,
   "metadata": {},
   "outputs": [],
   "source": [
    "# Step 13: Start Streamlit in the background\n",
    "get_ipython().system_raw('nohup streamlit run main_streamlit.py &')\n",
    "# Use ngrok to create a public URL for the Streamlit app\n",
    "ngrok_tunnel_streamlit = ngrok.connect(addr=\"8501\", proto=\"http\", bind_tls=True)\n",
    "# Print the public URL for Streamlit app\n",
    "print(\"Streamlit app can be accessed at:\", ngrok_tunnel_streamlit.public_url)"
   ]
  },
  {
   "cell_type": "code",
   "execution_count": 1,
   "metadata": {},
   "outputs": [],
   "source": [
    "# Stop ngrok\n",
    "!pkill ngrok"
   ]
  },
  {
   "cell_type": "code",
   "execution_count": 2,
   "metadata": {},
   "outputs": [],
   "source": [
    "!pkill streamlit"
   ]
  },
  {
   "cell_type": "code",
   "execution_count": 4,
   "metadata": {},
   "outputs": [
    {
     "name": "stdout",
     "output_type": "stream",
     "text": [
      "Collecting python-dotenv\n",
      "  Downloading python_dotenv-1.0.1-py3-none-any.whl.metadata (23 kB)\n",
      "Downloading python_dotenv-1.0.1-py3-none-any.whl (19 kB)\n",
      "Installing collected packages: python-dotenv\n",
      "Successfully installed python-dotenv-1.0.1\n"
     ]
    }
   ],
   "source": [
    "!pip install python-dotenv"
   ]
  },
  {
   "cell_type": "code",
   "execution_count": 5,
   "metadata": {},
   "outputs": [
    {
     "name": "stderr",
     "output_type": "stream",
     "text": [
      "/home/user/youtube-streamlit/youtube_project/.venv/lib/python3.11/site-packages/tqdm/auto.py:21: TqdmWarning: IProgress not found. Please update jupyter and ipywidgets. See https://ipywidgets.readthedocs.io/en/stable/user_install.html\n",
      "  from .autonotebook import tqdm as notebook_tqdm\n",
      "2024-01-29 05:52:22.557343: I external/local_tsl/tsl/cuda/cudart_stub.cc:31] Could not find cuda drivers on your machine, GPU will not be used.\n",
      "2024-01-29 05:52:22.664119: E external/local_xla/xla/stream_executor/cuda/cuda_dnn.cc:9261] Unable to register cuDNN factory: Attempting to register factory for plugin cuDNN when one has already been registered\n",
      "2024-01-29 05:52:22.664187: E external/local_xla/xla/stream_executor/cuda/cuda_fft.cc:607] Unable to register cuFFT factory: Attempting to register factory for plugin cuFFT when one has already been registered\n",
      "2024-01-29 05:52:22.667217: E external/local_xla/xla/stream_executor/cuda/cuda_blas.cc:1515] Unable to register cuBLAS factory: Attempting to register factory for plugin cuBLAS when one has already been registered\n",
      "2024-01-29 05:52:22.681343: I external/local_tsl/tsl/cuda/cudart_stub.cc:31] Could not find cuda drivers on your machine, GPU will not be used.\n",
      "2024-01-29 05:52:22.682310: I tensorflow/core/platform/cpu_feature_guard.cc:182] This TensorFlow binary is optimized to use available CPU instructions in performance-critical operations.\n",
      "To enable the following instructions: AVX2 FMA, in other operations, rebuild TensorFlow with the appropriate compiler flags.\n",
      "2024-01-29 05:52:26.061689: W tensorflow/compiler/tf2tensorrt/utils/py_utils.cc:38] TF-TRT Warning: Could not find TensorRT\n"
     ]
    }
   ],
   "source": [
    "# main.py\n",
    "\n",
    "import os\n",
    "from dotenv import load_dotenv\n",
    "from youtube_data import YouTubeDataPipeline\n",
    "from visualisations import YouTubeDataVisualisation\n",
    "\n",
    "# Load environment variables from the .env file\n",
    "load_dotenv()\n",
    "\n",
    "# Access environment variables\n",
    "mongodb_connection_string = os.getenv(\"MONGODB_URI\")\n",
    "api_key = os.getenv(\"API_KEY\")\n",
    "mongodb_database = os.getenv(\"mongodb_database\")\n",
    "mongodb_collection = os.getenv(\"mongodb_collection\")\n",
    "# SQLite path\n",
    "sqlite_path = 'youtube_data.sqlite'\n",
    "channel_id = 'UCQQtAQrZyCH54n-McGpC4ew'"
   ]
  },
  {
   "cell_type": "code",
   "execution_count": 6,
   "metadata": {},
   "outputs": [],
   "source": [
    "\n",
    "# Instantiate the YouTubeDataVisualisation class\n",
    "visualise = YouTubeDataVisualisation(sqlite_path)\n",
    "youtube_pipeline = YouTubeDataPipeline(api_key, sqlite_path, mongodb_connection_string, mongodb_database, mongodb_collection)"
   ]
  },
  {
   "cell_type": "code",
   "execution_count": null,
   "metadata": {},
   "outputs": [],
   "source": [
    "import sqlite3\n",
    "\n",
    "# Create a connection to your SQLite database\n",
    "sqlite_connection = sqlite3.connect('youtube_data.sqlite')\n",
    "\n",
    "# Create a cursor object\n",
    "sqlite_cursor = sqlite_connection.cursor()\n",
    "\n",
    "# Define the SQL queries\n",
    "query1 = '''\n",
    "ALTER TABLE channels\n",
    "ADD CONSTRAINT fk_playlist_id FOREIGN KEY (playlist_id) REFERENCES videos(playlist_id);\n",
    "'''\n",
    "\n",
    "query2 = '''\n",
    "ALTER TABLE videos\n",
    "ADD CONSTRAINT fk_video_id FOREIGN KEY (video_id) REFERENCES comments(video_id);\n",
    "'''\n",
    "\n",
    "query3 = '''\n",
    "ALTER TABLE comments\n",
    "ADD CONSTRAINT fk_comments_id FOREIGN KEY (video_id) REFERENCES videos(video_id);\n",
    "'''\n",
    "\n",
    "# Execute each query\n",
    "sqlite_cursor.execute(query1)\n",
    "sqlite_cursor.execute(query2)\n",
    "sqlite_cursor.execute(query3)\n",
    "\n",
    "# Commit the changes\n",
    "sqlite_connection.commit()\n",
    "\n",
    "# Close the connection\n",
    "sqlite_connection.close()\n"
   ]
  },
  {
   "cell_type": "code",
   "execution_count": 25,
   "metadata": {},
   "outputs": [],
   "source": [
    "youtube_pipeline.run_channel_pipeline(channel_id)"
   ]
  },
  {
   "cell_type": "code",
   "execution_count": 7,
   "metadata": {},
   "outputs": [
    {
     "data": {
      "text/plain": [
       "{'Channel_Name': 'Muhammad Ali',\n",
       " 'Channel_ID': 'UCQQtAQrZyCH54n-McGpC4ew',\n",
       " 'Subscription_Count': '379',\n",
       " 'Channel_Views': '8873',\n",
       " 'Channel_Description': \"Hello world! I'm Ali, an AI engineer on a mission to helping you switch into tech easily via hands-on project tutorials and career focused podcasts.\\n\\nPeace, Ali! ✌️\\n\",\n",
       " 'Playlist_ID': 'UUQQtAQrZyCH54n-McGpC4ew'}"
      ]
     },
     "execution_count": 7,
     "metadata": {},
     "output_type": "execute_result"
    }
   ],
   "source": [
    "youtube_pipeline.get_channel_info(channel_id)"
   ]
  },
  {
   "cell_type": "code",
   "execution_count": 8,
   "metadata": {},
   "outputs": [
    {
     "data": {
      "text/plain": [
       "{'Channel_Name': 'Muhammad Ali',\n",
       " 'Channel_ID': 'UCQQtAQrZyCH54n-McGpC4ew',\n",
       " 'Subscription_Count': '326',\n",
       " 'Channel_Views': '7768',\n",
       " 'Channel_Description': \"Hello world! I'm Ali, an AI engineer on a mission to helping you switch into tech easily via hands-on project tutorials and career focused podcasts.\\n\\nPeace, Ali! ✌️\\n\",\n",
       " 'Playlist_ID': 'UUQQtAQrZyCH54n-McGpC4ew'}"
      ]
     },
     "execution_count": 8,
     "metadata": {},
     "output_type": "execute_result"
    }
   ],
   "source": [
    "youtube_pipeline.mongodb_channel_data(channel_id)"
   ]
  },
  {
   "cell_type": "code",
   "execution_count": 31,
   "metadata": {},
   "outputs": [
    {
     "data": {
      "text/plain": [
       "{'Channel_Name': 'Shyamsundar Dharwad',\n",
       " 'Channel_ID': 'UCA5w3NR1-79VgWz-pUnhIFg',\n",
       " 'Subscription_Count': '4',\n",
       " 'Channel_Views': '86',\n",
       " 'Channel_Description': '',\n",
       " 'Playlist_ID': 'UUA5w3NR1-79VgWz-pUnhIFg'}"
      ]
     },
     "execution_count": 31,
     "metadata": {},
     "output_type": "execute_result"
    }
   ],
   "source": [
    "youtube_pipeline.mongodb_channel_data('UCA5w3NR1-79VgWz-pUnhIFg')"
   ]
  },
  {
   "cell_type": "code",
   "execution_count": null,
   "metadata": {},
   "outputs": [],
   "source": [
    "youtube_pipeline.mongodb_videos_data('UCLlxwk8DUs8yF3xfAiuc0SQ')"
   ]
  },
  {
   "cell_type": "code",
   "execution_count": 24,
   "metadata": {},
   "outputs": [
    {
     "data": {
      "text/html": [
       "<div>\n",
       "<style scoped>\n",
       "    .dataframe tbody tr th:only-of-type {\n",
       "        vertical-align: middle;\n",
       "    }\n",
       "\n",
       "    .dataframe tbody tr th {\n",
       "        vertical-align: top;\n",
       "    }\n",
       "\n",
       "    .dataframe thead th {\n",
       "        text-align: right;\n",
       "    }\n",
       "</style>\n",
       "<table border=\"1\" class=\"dataframe\">\n",
       "  <thead>\n",
       "    <tr style=\"text-align: right;\">\n",
       "      <th></th>\n",
       "      <th>channel_id</th>\n",
       "      <th>channel_name</th>\n",
       "      <th>subscription_count</th>\n",
       "      <th>channel_views</th>\n",
       "      <th>channel_description</th>\n",
       "      <th>playlist_id</th>\n",
       "    </tr>\n",
       "  </thead>\n",
       "  <tbody>\n",
       "    <tr>\n",
       "      <th>0</th>\n",
       "      <td>UCQQtAQrZyCH54n-McGpC4ew</td>\n",
       "      <td>Muhammad Ali</td>\n",
       "      <td>326</td>\n",
       "      <td>7768</td>\n",
       "      <td>Hello world! I'm Ali, an AI engineer on a miss...</td>\n",
       "      <td>UUQQtAQrZyCH54n-McGpC4ew</td>\n",
       "    </tr>\n",
       "  </tbody>\n",
       "</table>\n",
       "</div>"
      ],
      "text/plain": [
       "                 channel_id  channel_name  subscription_count channel_views  \\\n",
       "0  UCQQtAQrZyCH54n-McGpC4ew  Muhammad Ali                 326          7768   \n",
       "\n",
       "                                 channel_description               playlist_id  \n",
       "0  Hello world! I'm Ali, an AI engineer on a miss...  UUQQtAQrZyCH54n-McGpC4ew  "
      ]
     },
     "execution_count": 24,
     "metadata": {},
     "output_type": "execute_result"
    }
   ],
   "source": [
    "youtube_pipeline.sql_query(f\"select * from channels where channel_id ='{channel_id}'\")\n"
   ]
  },
  {
   "cell_type": "code",
   "execution_count": 34,
   "metadata": {},
   "outputs": [
    {
     "data": {
      "text/html": [
       "<div>\n",
       "<style scoped>\n",
       "    .dataframe tbody tr th:only-of-type {\n",
       "        vertical-align: middle;\n",
       "    }\n",
       "\n",
       "    .dataframe tbody tr th {\n",
       "        vertical-align: top;\n",
       "    }\n",
       "\n",
       "    .dataframe thead th {\n",
       "        text-align: right;\n",
       "    }\n",
       "</style>\n",
       "<table border=\"1\" class=\"dataframe\">\n",
       "  <thead>\n",
       "    <tr style=\"text-align: right;\">\n",
       "      <th></th>\n",
       "      <th>video_id</th>\n",
       "      <th>video_name</th>\n",
       "      <th>video_description</th>\n",
       "      <th>tags</th>\n",
       "      <th>published_at</th>\n",
       "      <th>view_count</th>\n",
       "      <th>like_count</th>\n",
       "      <th>favorite_count</th>\n",
       "      <th>comment_count</th>\n",
       "      <th>duration</th>\n",
       "      <th>caption</th>\n",
       "      <th>thumbnail</th>\n",
       "      <th>playlist_id</th>\n",
       "    </tr>\n",
       "  </thead>\n",
       "  <tbody>\n",
       "  </tbody>\n",
       "</table>\n",
       "</div>"
      ],
      "text/plain": [
       "Empty DataFrame\n",
       "Columns: [video_id, video_name, video_description, tags, published_at, view_count, like_count, favorite_count, comment_count, duration, caption, thumbnail, playlist_id]\n",
       "Index: []"
      ]
     },
     "execution_count": 34,
     "metadata": {},
     "output_type": "execute_result"
    }
   ],
   "source": [
    "youtube_pipeline.sql_query(f\"select * from videos where playlist_id = 'UUQQtAQrZyCH54n-McGpC4ew' \")"
   ]
  },
  {
   "cell_type": "code",
   "execution_count": 38,
   "metadata": {},
   "outputs": [
    {
     "data": {
      "text/html": [
       "<div>\n",
       "<style scoped>\n",
       "    .dataframe tbody tr th:only-of-type {\n",
       "        vertical-align: middle;\n",
       "    }\n",
       "\n",
       "    .dataframe tbody tr th {\n",
       "        vertical-align: top;\n",
       "    }\n",
       "\n",
       "    .dataframe thead th {\n",
       "        text-align: right;\n",
       "    }\n",
       "</style>\n",
       "<table border=\"1\" class=\"dataframe\">\n",
       "  <thead>\n",
       "    <tr style=\"text-align: right;\">\n",
       "      <th></th>\n",
       "      <th>playlist_id</th>\n",
       "    </tr>\n",
       "  </thead>\n",
       "  <tbody>\n",
       "    <tr>\n",
       "      <th>0</th>\n",
       "      <td>UUQQtAQrZyCH54n-McGpC4ew</td>\n",
       "    </tr>\n",
       "  </tbody>\n",
       "</table>\n",
       "</div>"
      ],
      "text/plain": [
       "                playlist_id\n",
       "0  UUQQtAQrZyCH54n-McGpC4ew"
      ]
     },
     "execution_count": 38,
     "metadata": {},
     "output_type": "execute_result"
    }
   ],
   "source": [
    "playlist_id = youtube_pipeline.sql_query(f\"SELECT playlist_id FROM channels WHERE channel_id = '{channel_id}'\")\n",
    "playlist_id"
   ]
  },
  {
   "cell_type": "code",
   "execution_count": 37,
   "metadata": {},
   "outputs": [
    {
     "data": {
      "text/html": [
       "<div>\n",
       "<style scoped>\n",
       "    .dataframe tbody tr th:only-of-type {\n",
       "        vertical-align: middle;\n",
       "    }\n",
       "\n",
       "    .dataframe tbody tr th {\n",
       "        vertical-align: top;\n",
       "    }\n",
       "\n",
       "    .dataframe thead th {\n",
       "        text-align: right;\n",
       "    }\n",
       "</style>\n",
       "<table border=\"1\" class=\"dataframe\">\n",
       "  <thead>\n",
       "    <tr style=\"text-align: right;\">\n",
       "      <th></th>\n",
       "      <th>video_id</th>\n",
       "    </tr>\n",
       "  </thead>\n",
       "  <tbody>\n",
       "  </tbody>\n",
       "</table>\n",
       "</div>"
      ],
      "text/plain": [
       "Empty DataFrame\n",
       "Columns: [video_id]\n",
       "Index: []"
      ]
     },
     "execution_count": 37,
     "metadata": {},
     "output_type": "execute_result"
    }
   ],
   "source": [
    "youtube_pipeline.sql_query(f\"SELECT video_id FROM videos WHERE playlist_id = '{playlist_id}'\")"
   ]
  },
  {
   "cell_type": "code",
   "execution_count": 14,
   "metadata": {},
   "outputs": [
    {
     "data": {
      "text/html": [
       "<div>\n",
       "<style scoped>\n",
       "    .dataframe tbody tr th:only-of-type {\n",
       "        vertical-align: middle;\n",
       "    }\n",
       "\n",
       "    .dataframe tbody tr th {\n",
       "        vertical-align: top;\n",
       "    }\n",
       "\n",
       "    .dataframe thead th {\n",
       "        text-align: right;\n",
       "    }\n",
       "</style>\n",
       "<table border=\"1\" class=\"dataframe\">\n",
       "  <thead>\n",
       "    <tr style=\"text-align: right;\">\n",
       "      <th></th>\n",
       "      <th>channel_id</th>\n",
       "      <th>channel_name</th>\n",
       "      <th>subscription_count</th>\n",
       "      <th>channel_views</th>\n",
       "      <th>channel_description</th>\n",
       "      <th>playlist_id</th>\n",
       "    </tr>\n",
       "  </thead>\n",
       "  <tbody>\n",
       "    <tr>\n",
       "      <th>0</th>\n",
       "      <td>UCQQtAQrZyCH54n-McGpC4ew</td>\n",
       "      <td>Muhammad Ali</td>\n",
       "      <td>326</td>\n",
       "      <td>7768</td>\n",
       "      <td>Hello world! I'm Ali, an AI engineer on a miss...</td>\n",
       "      <td>UUQQtAQrZyCH54n-McGpC4ew</td>\n",
       "    </tr>\n",
       "  </tbody>\n",
       "</table>\n",
       "</div>"
      ],
      "text/plain": [
       "                 channel_id  channel_name  subscription_count channel_views  \\\n",
       "0  UCQQtAQrZyCH54n-McGpC4ew  Muhammad Ali                 326          7768   \n",
       "\n",
       "                                 channel_description               playlist_id  \n",
       "0  Hello world! I'm Ali, an AI engineer on a miss...  UUQQtAQrZyCH54n-McGpC4ew  "
      ]
     },
     "execution_count": 14,
     "metadata": {},
     "output_type": "execute_result"
    }
   ],
   "source": [
    "youtube_pipeline.sql_query(f\"select * from channels where channel_id ='{channel_id}'\")"
   ]
  }
 ],
 "metadata": {
  "kernelspec": {
   "display_name": ".venv",
   "language": "python",
   "name": "python3"
  },
  "language_info": {
   "codemirror_mode": {
    "name": "ipython",
    "version": 3
   },
   "file_extension": ".py",
   "mimetype": "text/x-python",
   "name": "python",
   "nbconvert_exporter": "python",
   "pygments_lexer": "ipython3",
   "version": "3.11.6"
  }
 },
 "nbformat": 4,
 "nbformat_minor": 2
}
