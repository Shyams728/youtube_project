{
 "cells": [
  {
   "cell_type": "code",
   "execution_count": 1,
   "metadata": {},
   "outputs": [
    {
     "name": "stdout",
     "output_type": "stream",
     "text": [
      "Authtoken saved to configuration file: /home/user/.config/ngrok/ngrok.yml\n"
     ]
    }
   ],
   "source": [
    "from pyngrok import ngrok\n",
    "!ngrok authtoken 2ZjwOwRMWe1xdOQuhwti9eQTXBA_45bBvrKJqeZy7foGQgYWA"
   ]
  },
  {
   "cell_type": "code",
   "execution_count": 2,
   "metadata": {},
   "outputs": [
    {
     "name": "stdout",
     "output_type": "stream",
     "text": [
      "Streamlit app can be accessed at: https://5999-35-233-250-150.ngrok-free.app\n"
     ]
    },
    {
     "name": "stdout",
     "output_type": "stream",
     "text": [
      "\n",
      "Collecting usage statistics. To deactivate, set browser.gatherUsageStats to False.\n",
      "\n",
      "\n",
      "  You can now view your Streamlit app in your browser.\n",
      "\n",
      "  Network URL: http://10.88.0.4:8501\n",
      "  External URL: http://35.233.250.150:8501\n",
      "\n"
     ]
    },
    {
     "name": "stderr",
     "output_type": "stream",
     "text": [
      "None of PyTorch, TensorFlow >= 2.0, or Flax have been found. Models won't be available and only tokenizers, configuration and file/data utilities can be used.\n",
      "2024-01-25 10:32:08.302 Uncaught app exception\n",
      "Traceback (most recent call last):\n",
      "  File \"/home/user/youtube_project/.venv/lib/python3.11/site-packages/streamlit/runtime/scriptrunner/script_runner.py\", line 535, in _run_script\n",
      "    exec(code, module.__dict__)\n",
      "  File \"/home/user/youtube_project/main_streamlit.py\", line 363, in <module>\n",
      "    main()\n",
      "  File \"/home/user/youtube_project/main_streamlit.py\", line 341, in main\n",
      "    comments_data = visualise.create_filter_container()\n",
      "                    ^^^^^^^^^^^^^^^^^^^^^^^^^^^^^^^^^^^\n",
      "  File \"/home/user/youtube_project/visualisations.py\", line 107, in create_filter_container\n",
      "    if len(data_videos['video_id']) == 1:\n",
      "           ~~~~~~~~~~~^^^^^^^^^^^^\n",
      "TypeError: 'NoneType' object is not subscriptable\n",
      "2024-01-25 10:32:45.804 Uncaught app exception\n",
      "Traceback (most recent call last):\n",
      "  File \"/home/user/youtube_project/.venv/lib/python3.11/site-packages/streamlit/runtime/scriptrunner/script_runner.py\", line 535, in _run_script\n",
      "    exec(code, module.__dict__)\n",
      "  File \"/home/user/youtube_project/main_streamlit.py\", line 363, in <module>\n",
      "    main()\n",
      "  File \"/home/user/youtube_project/main_streamlit.py\", line 341, in main\n",
      "    comments_data = visualise.create_filter_container()\n",
      "                    ^^^^^^^^^^^^^^^^^^^^^^^^^^^^^^^^^^^\n",
      "  File \"/home/user/youtube_project/visualisations.py\", line 107, in create_filter_container\n",
      "    if len(data_videos['video_id']) == 1:\n",
      "           ~~~~~~~~~~~^^^^^^^^^^^^\n",
      "TypeError: 'NoneType' object is not subscriptable\n",
      "2024-01-25 10:36:28.108 Uncaught app exception\n",
      "Traceback (most recent call last):\n",
      "  File \"/home/user/youtube_project/.venv/lib/python3.11/site-packages/streamlit/runtime/scriptrunner/script_runner.py\", line 535, in _run_script\n",
      "    exec(code, module.__dict__)\n",
      "  File \"/home/user/youtube_project/main_streamlit.py\", line 365, in <module>\n",
      "    main()\n",
      "  File \"/home/user/youtube_project/main_streamlit.py\", line 341, in main\n",
      "    comments_data = visualise.create_filter_container()\n",
      "                    ^^^^^^^^^^^^^^^^^^^^^^^^^^^^^^^^^^^\n",
      "  File \"/home/user/youtube_project/visualisations.py\", line 107, in create_filter_container\n",
      "    if len(data_videos['video_id']) == 1:\n",
      "           ~~~~~~~~~~~^^^^^^^^^^^^\n",
      "TypeError: 'NoneType' object is not subscriptable\n",
      "2024-01-25 10:37:13.040 Uncaught app exception\n",
      "Traceback (most recent call last):\n",
      "  File \"/home/user/youtube_project/.venv/lib/python3.11/site-packages/streamlit/runtime/scriptrunner/script_runner.py\", line 535, in _run_script\n",
      "    exec(code, module.__dict__)\n",
      "  File \"/home/user/youtube_project/main_streamlit.py\", line 365, in <module>\n",
      "    main()\n",
      "  File \"/home/user/youtube_project/main_streamlit.py\", line 341, in main\n",
      "    comments_data = visualise.create_filter_container()\n",
      "                    ^^^^^^^^^^^^^^^^^^^^^^^^^^^^^^^^^^^\n",
      "  File \"/home/user/youtube_project/visualisations.py\", line 107, in create_filter_container\n",
      "    if len(data_videos['video_id']) == 1:\n",
      "           ~~~~~~~~~~~^^^^^^^^^^^^\n",
      "TypeError: 'NoneType' object is not subscriptable\n",
      "2024-01-25 10:37:18.399 Uncaught app exception\n",
      "Traceback (most recent call last):\n",
      "  File \"/home/user/youtube_project/.venv/lib/python3.11/site-packages/streamlit/runtime/scriptrunner/script_runner.py\", line 535, in _run_script\n",
      "    exec(code, module.__dict__)\n",
      "  File \"/home/user/youtube_project/main_streamlit.py\", line 365, in <module>\n",
      "    main()\n",
      "  File \"/home/user/youtube_project/main_streamlit.py\", line 341, in main\n",
      "    comments_data = visualise.create_filter_container()\n",
      "                    ^^^^^^^^^^^^^^^^^^^^^^^^^^^^^^^^^^^\n",
      "  File \"/home/user/youtube_project/visualisations.py\", line 107, in create_filter_container\n",
      "    if len(data_videos['video_id']) == 1:\n",
      "           ~~~~~~~~~~~^^^^^^^^^^^^\n",
      "TypeError: 'NoneType' object is not subscriptable\n",
      "2024-01-25 10:37:22.812 Uncaught app exception\n",
      "Traceback (most recent call last):\n",
      "  File \"/home/user/youtube_project/.venv/lib/python3.11/site-packages/streamlit/runtime/scriptrunner/script_runner.py\", line 535, in _run_script\n",
      "    exec(code, module.__dict__)\n",
      "  File \"/home/user/youtube_project/main_streamlit.py\", line 365, in <module>\n",
      "    main()\n",
      "  File \"/home/user/youtube_project/main_streamlit.py\", line 341, in main\n",
      "    comments_data = visualise.create_filter_container()\n",
      "                    ^^^^^^^^^^^^^^^^^^^^^^^^^^^^^^^^^^^\n",
      "  File \"/home/user/youtube_project/visualisations.py\", line 107, in create_filter_container\n",
      "    if len(data_videos['video_id']) == 1:\n",
      "           ~~~~~~~~~~~^^^^^^^^^^^^\n",
      "TypeError: 'NoneType' object is not subscriptable\n",
      "No model was supplied, defaulted to distilbert-base-uncased-finetuned-sst-2-english and revision af0f99b (https://huggingface.co/distilbert-base-uncased-finetuned-sst-2-english).\n",
      "Using a pipeline without specifying a model name and revision in production is not recommended.\n",
      "2024-01-25 10:37:35.403 Uncaught app exception\n",
      "Traceback (most recent call last):\n",
      "  File \"/home/user/youtube_project/.venv/lib/python3.11/site-packages/streamlit/runtime/scriptrunner/script_runner.py\", line 535, in _run_script\n",
      "    exec(code, module.__dict__)\n",
      "  File \"/home/user/youtube_project/main_streamlit.py\", line 365, in <module>\n",
      "    main()\n",
      "  File \"/home/user/youtube_project/main_streamlit.py\", line 357, in main\n",
      "    visualise.nlp_analysis(comments_result)\n",
      "  File \"/home/user/youtube_project/visualisations.py\", line 27, in nlp_analysis\n",
      "    classifier = pipeline(\"sentiment-analysis\")\n",
      "                 ^^^^^^^^^^^^^^^^^^^^^^^^^^^^^^\n",
      "  File \"/home/user/youtube_project/.venv/lib/python3.11/site-packages/transformers/pipelines/__init__.py\", line 870, in pipeline\n",
      "    framework, model = infer_framework_load_model(\n",
      "                       ^^^^^^^^^^^^^^^^^^^^^^^^^^^\n",
      "  File \"/home/user/youtube_project/.venv/lib/python3.11/site-packages/transformers/pipelines/base.py\", line 220, in infer_framework_load_model\n",
      "    raise RuntimeError(\n",
      "RuntimeError: At least one of TensorFlow 2.0 or PyTorch should be installed. To install TensorFlow 2.0, read the instructions at https://www.tensorflow.org/install/ To install PyTorch, read the instructions at https://pytorch.org/.\n",
      "2024-01-25 10:44:37.221 Uncaught app exception\n",
      "Traceback (most recent call last):\n",
      "  File \"/home/user/youtube_project/.venv/lib/python3.11/site-packages/streamlit/runtime/scriptrunner/script_runner.py\", line 535, in _run_script\n",
      "    exec(code, module.__dict__)\n",
      "  File \"/home/user/youtube_project/main_streamlit.py\", line 366, in <module>\n",
      "    main()\n",
      "  File \"/home/user/youtube_project/main_streamlit.py\", line 341, in main\n",
      "    comments_data = visualise.create_filter_container()\n",
      "                    ^^^^^^^^^^^^^^^^^^^^^^^^^^^^^^^^^^^\n",
      "  File \"/home/user/youtube_project/visualisations.py\", line 107, in create_filter_container\n",
      "    if len(data_videos['video_id']) == 1:\n",
      "           ~~~~~~~~~~~^^^^^^^^^^^^\n",
      "TypeError: 'NoneType' object is not subscriptable\n",
      "2024-01-25 10:44:45.202 Uncaught app exception\n",
      "Traceback (most recent call last):\n",
      "  File \"/home/user/youtube_project/.venv/lib/python3.11/site-packages/streamlit/runtime/scriptrunner/script_runner.py\", line 535, in _run_script\n",
      "    exec(code, module.__dict__)\n",
      "  File \"/home/user/youtube_project/main_streamlit.py\", line 366, in <module>\n",
      "    main()\n",
      "  File \"/home/user/youtube_project/main_streamlit.py\", line 341, in main\n",
      "    comments_data = visualise.create_filter_container()\n",
      "                    ^^^^^^^^^^^^^^^^^^^^^^^^^^^^^^^^^^^\n",
      "  File \"/home/user/youtube_project/visualisations.py\", line 107, in create_filter_container\n",
      "    if len(data_videos['video_id']) == 1:\n",
      "           ~~~~~~~~~~~^^^^^^^^^^^^\n",
      "TypeError: 'NoneType' object is not subscriptable\n",
      "No model was supplied, defaulted to distilbert-base-uncased-finetuned-sst-2-english and revision af0f99b (https://huggingface.co/distilbert-base-uncased-finetuned-sst-2-english).\n",
      "Using a pipeline without specifying a model name and revision in production is not recommended.\n",
      "2024-01-25 11:16:44.181 Uncaught app exception\n",
      "Traceback (most recent call last):\n",
      "  File \"/home/user/youtube_project/.venv/lib/python3.11/site-packages/streamlit/runtime/scriptrunner/script_runner.py\", line 535, in _run_script\n",
      "    exec(code, module.__dict__)\n",
      "  File \"/home/user/youtube_project/main_streamlit.py\", line 366, in <module>\n",
      "    main()\n",
      "  File \"/home/user/youtube_project/main_streamlit.py\", line 358, in main\n",
      "    visualise.nlp_analysis(comments_result)\n",
      "  File \"/home/user/youtube_project/visualisations.py\", line 27, in nlp_analysis\n",
      "    classifier = pipeline(\"sentiment-analysis\")\n",
      "                 ^^^^^^^^^^^^^^^^^^^^^^^^^^^^^^\n",
      "  File \"/home/user/youtube_project/.venv/lib/python3.11/site-packages/transformers/pipelines/__init__.py\", line 870, in pipeline\n",
      "    framework, model = infer_framework_load_model(\n",
      "                       ^^^^^^^^^^^^^^^^^^^^^^^^^^^\n",
      "  File \"/home/user/youtube_project/.venv/lib/python3.11/site-packages/transformers/pipelines/base.py\", line 220, in infer_framework_load_model\n",
      "    raise RuntimeError(\n",
      "RuntimeError: At least one of TensorFlow 2.0 or PyTorch should be installed. To install TensorFlow 2.0, read the instructions at https://www.tensorflow.org/install/ To install PyTorch, read the instructions at https://pytorch.org/.\n",
      "2024-01-25 11:16:48.886 Uncaught app exception\n",
      "Traceback (most recent call last):\n",
      "  File \"/home/user/youtube_project/.venv/lib/python3.11/site-packages/streamlit/runtime/scriptrunner/script_runner.py\", line 535, in _run_script\n",
      "    exec(code, module.__dict__)\n",
      "  File \"/home/user/youtube_project/main_streamlit.py\", line 366, in <module>\n",
      "    main()\n",
      "  File \"/home/user/youtube_project/main_streamlit.py\", line 341, in main\n",
      "    comments_data = visualise.create_filter_container()\n",
      "                    ^^^^^^^^^^^^^^^^^^^^^^^^^^^^^^^^^^^\n",
      "  File \"/home/user/youtube_project/visualisations.py\", line 107, in create_filter_container\n",
      "    if len(data_videos['video_id']) == 1:\n",
      "           ~~~~~~~~~~~^^^^^^^^^^^^\n",
      "TypeError: 'NoneType' object is not subscriptable\n",
      "2024-01-25 11:16:54.518 Uncaught app exception\n",
      "Traceback (most recent call last):\n",
      "  File \"/home/user/youtube_project/.venv/lib/python3.11/site-packages/streamlit/runtime/scriptrunner/script_runner.py\", line 535, in _run_script\n",
      "    exec(code, module.__dict__)\n",
      "  File \"/home/user/youtube_project/main_streamlit.py\", line 366, in <module>\n",
      "    main()\n",
      "  File \"/home/user/youtube_project/main_streamlit.py\", line 341, in main\n",
      "    comments_data = visualise.create_filter_container()\n",
      "                    ^^^^^^^^^^^^^^^^^^^^^^^^^^^^^^^^^^^\n",
      "  File \"/home/user/youtube_project/visualisations.py\", line 107, in create_filter_container\n",
      "    if len(data_videos['video_id']) == 1:\n",
      "           ~~~~~~~~~~~^^^^^^^^^^^^\n",
      "TypeError: 'NoneType' object is not subscriptable\n",
      "2024-01-25 11:17:01.006 Uncaught app exception\n",
      "Traceback (most recent call last):\n",
      "  File \"/home/user/youtube_project/.venv/lib/python3.11/site-packages/streamlit/runtime/scriptrunner/script_runner.py\", line 535, in _run_script\n",
      "    exec(code, module.__dict__)\n",
      "  File \"/home/user/youtube_project/main_streamlit.py\", line 366, in <module>\n",
      "    main()\n",
      "  File \"/home/user/youtube_project/main_streamlit.py\", line 341, in main\n",
      "    comments_data = visualise.create_filter_container()\n",
      "                    ^^^^^^^^^^^^^^^^^^^^^^^^^^^^^^^^^^^\n",
      "  File \"/home/user/youtube_project/visualisations.py\", line 107, in create_filter_container\n",
      "    if len(data_videos['video_id']) == 1:\n",
      "           ~~~~~~~~~~~^^^^^^^^^^^^\n",
      "TypeError: 'NoneType' object is not subscriptable\n",
      "2024-01-25 11:17:04.520 Uncaught app exception\n",
      "Traceback (most recent call last):\n",
      "  File \"/home/user/youtube_project/.venv/lib/python3.11/site-packages/streamlit/runtime/scriptrunner/script_runner.py\", line 535, in _run_script\n",
      "    exec(code, module.__dict__)\n",
      "  File \"/home/user/youtube_project/main_streamlit.py\", line 366, in <module>\n",
      "    main()\n",
      "  File \"/home/user/youtube_project/main_streamlit.py\", line 341, in main\n",
      "    comments_data = visualise.create_filter_container()\n",
      "                    ^^^^^^^^^^^^^^^^^^^^^^^^^^^^^^^^^^^\n",
      "  File \"/home/user/youtube_project/visualisations.py\", line 107, in create_filter_container\n",
      "    if len(data_videos['video_id']) == 1:\n",
      "           ~~~~~~~~~~~^^^^^^^^^^^^\n",
      "TypeError: 'NoneType' object is not subscriptable\n",
      "2024-01-25 11:17:08.013 Uncaught app exception\n",
      "Traceback (most recent call last):\n",
      "  File \"/home/user/youtube_project/.venv/lib/python3.11/site-packages/streamlit/runtime/scriptrunner/script_runner.py\", line 535, in _run_script\n",
      "    exec(code, module.__dict__)\n",
      "  File \"/home/user/youtube_project/main_streamlit.py\", line 366, in <module>\n",
      "    main()\n",
      "  File \"/home/user/youtube_project/main_streamlit.py\", line 341, in main\n",
      "    comments_data = visualise.create_filter_container()\n",
      "                    ^^^^^^^^^^^^^^^^^^^^^^^^^^^^^^^^^^^\n",
      "  File \"/home/user/youtube_project/visualisations.py\", line 107, in create_filter_container\n",
      "    if len(data_videos['video_id']) == 1:\n",
      "           ~~~~~~~~~~~^^^^^^^^^^^^\n",
      "TypeError: 'NoneType' object is not subscriptable\n",
      "No model was supplied, defaulted to distilbert-base-uncased-finetuned-sst-2-english and revision af0f99b (https://huggingface.co/distilbert-base-uncased-finetuned-sst-2-english).\n",
      "Using a pipeline without specifying a model name and revision in production is not recommended.\n",
      "2024-01-25 11:17:15.917 Uncaught app exception\n",
      "Traceback (most recent call last):\n",
      "  File \"/home/user/youtube_project/.venv/lib/python3.11/site-packages/streamlit/runtime/scriptrunner/script_runner.py\", line 535, in _run_script\n",
      "    exec(code, module.__dict__)\n",
      "  File \"/home/user/youtube_project/main_streamlit.py\", line 366, in <module>\n",
      "    main()\n",
      "  File \"/home/user/youtube_project/main_streamlit.py\", line 358, in main\n",
      "    visualise.nlp_analysis(comments_result)\n",
      "  File \"/home/user/youtube_project/visualisations.py\", line 27, in nlp_analysis\n",
      "    classifier = pipeline(\"sentiment-analysis\")\n",
      "                 ^^^^^^^^^^^^^^^^^^^^^^^^^^^^^^\n",
      "  File \"/home/user/youtube_project/.venv/lib/python3.11/site-packages/transformers/pipelines/__init__.py\", line 870, in pipeline\n",
      "    framework, model = infer_framework_load_model(\n",
      "                       ^^^^^^^^^^^^^^^^^^^^^^^^^^^\n",
      "  File \"/home/user/youtube_project/.venv/lib/python3.11/site-packages/transformers/pipelines/base.py\", line 220, in infer_framework_load_model\n",
      "    raise RuntimeError(\n",
      "RuntimeError: At least one of TensorFlow 2.0 or PyTorch should be installed. To install TensorFlow 2.0, read the instructions at https://www.tensorflow.org/install/ To install PyTorch, read the instructions at https://pytorch.org/.\n"
     ]
    }
   ],
   "source": [
    "# Step 13: Start Streamlit in the background\n",
    "get_ipython().system_raw('nohup streamlit run main_streamlit.py &')\n",
    "# Use ngrok to create a public URL for the Streamlit app\n",
    "ngrok_tunnel_streamlit = ngrok.connect(addr=\"8501\", proto=\"http\", bind_tls=True)\n",
    "# Print the public URL for Streamlit app\n",
    "print(\"Streamlit app can be accessed at:\", ngrok_tunnel_streamlit.public_url)"
   ]
  },
  {
   "cell_type": "code",
   "execution_count": 1,
   "metadata": {},
   "outputs": [],
   "source": [
    "# Stop ngrok\n",
    "!pkill ngrok"
   ]
  },
  {
   "cell_type": "code",
   "execution_count": 2,
   "metadata": {},
   "outputs": [],
   "source": [
    "!pkill streamlit"
   ]
  },
  {
   "cell_type": "code",
   "execution_count": 3,
   "metadata": {},
   "outputs": [
    {
     "name": "stderr",
     "output_type": "stream",
     "text": [
      "/home/user/youtube_project/.venv/lib/python3.11/site-packages/tqdm/auto.py:21: TqdmWarning: IProgress not found. Please update jupyter and ipywidgets. See https://ipywidgets.readthedocs.io/en/stable/user_install.html\n",
      "  from .autonotebook import tqdm as notebook_tqdm\n",
      "None of PyTorch, TensorFlow >= 2.0, or Flax have been found. Models won't be available and only tokenizers, configuration and file/data utilities can be used.\n"
     ]
    }
   ],
   "source": [
    "# main.py\n",
    "\n",
    "import os\n",
    "from dotenv import load_dotenv\n",
    "from youtube_data import YouTubeDataPipeline\n",
    "from visualisations import YouTubeDataVisualisation\n",
    "\n",
    "# Load environment variables from the .env file\n",
    "load_dotenv()\n",
    "\n",
    "# Access environment variables\n",
    "mongodb_connection_string = os.getenv(\"MONGODB_URI\")\n",
    "api_key = os.getenv(\"API_KEY\")\n",
    "mongodb_database = os.getenv(\"mongodb_database\")\n",
    "mongodb_collection = os.getenv(\"mongodb_collection\")\n",
    "# SQLite path\n",
    "sqlite_path = 'youtube_data.sqlite'\n",
    "channel_id = 'UCQQtAQrZyCH54n-McGpC4ew'"
   ]
  },
  {
   "cell_type": "code",
   "execution_count": 4,
   "metadata": {},
   "outputs": [],
   "source": [
    "\n",
    "# Instantiate the YouTubeDataVisualisation class\n",
    "visualise = YouTubeDataVisualisation(sqlite_path)\n",
    "youtube_pipeline = YouTubeDataPipeline(api_key, sqlite_path, mongodb_connection_string, mongodb_database, mongodb_collection)"
   ]
  },
  {
   "cell_type": "code",
   "execution_count": 25,
   "metadata": {},
   "outputs": [],
   "source": [
    "youtube_pipeline.run_channel_pipeline(channel_id)"
   ]
  },
  {
   "cell_type": "code",
   "execution_count": 5,
   "metadata": {},
   "outputs": [
    {
     "data": {
      "text/plain": [
       "{'Channel_Name': 'Muhammad Ali',\n",
       " 'Channel_ID': 'UCQQtAQrZyCH54n-McGpC4ew',\n",
       " 'Subscription_Count': '329',\n",
       " 'Channel_Views': '7865',\n",
       " 'Channel_Description': \"Hello world! I'm Ali, an AI engineer on a mission to helping you switch into tech easily via hands-on project tutorials and career focused podcasts.\\n\\nPeace, Ali! ✌️\\n\",\n",
       " 'Playlist_ID': 'UUQQtAQrZyCH54n-McGpC4ew'}"
      ]
     },
     "execution_count": 5,
     "metadata": {},
     "output_type": "execute_result"
    }
   ],
   "source": [
    "youtube_pipeline.get_channel_info(channel_id)"
   ]
  },
  {
   "cell_type": "code",
   "execution_count": 6,
   "metadata": {},
   "outputs": [
    {
     "data": {
      "text/plain": [
       "{'Channel_Name': 'Muhammad Ali',\n",
       " 'Channel_ID': 'UCQQtAQrZyCH54n-McGpC4ew',\n",
       " 'Subscription_Count': '326',\n",
       " 'Channel_Views': '7768',\n",
       " 'Channel_Description': \"Hello world! I'm Ali, an AI engineer on a mission to helping you switch into tech easily via hands-on project tutorials and career focused podcasts.\\n\\nPeace, Ali! ✌️\\n\",\n",
       " 'Playlist_ID': 'UUQQtAQrZyCH54n-McGpC4ew'}"
      ]
     },
     "execution_count": 6,
     "metadata": {},
     "output_type": "execute_result"
    },
    {
     "name": "stderr",
     "output_type": "stream",
     "text": [
      "2024-01-23 08:02:59.831 Uncaught app exception\n",
      "Traceback (most recent call last):\n",
      "  File \"/home/user/youtube_project/.venv/lib/python3.11/site-packages/streamlit/runtime/scriptrunner/script_runner.py\", line 535, in _run_script\n",
      "    exec(code, module.__dict__)\n",
      "  File \"/home/user/youtube_project/main_streamlit.py\", line 406, in <module>\n",
      "    main()\n",
      "  File \"/home/user/youtube_project/main_streamlit.py\", line 126, in main\n",
      "    youtube_pipeline = YouTubeDataPipeline(api_key, sqlite_path, mongodb_connection_string, mongodb_database, mongodb_collection)\n",
      "                       ^^^^^^^^^^^^^^^^^^^^^^^^^^^^^^^^^^^^^^^^^^^^^^^^^^^^^^^^^^^^^^^^^^^^^^^^^^^^^^^^^^^^^^^^^^^^^^^^^^^^^^^^^^\n",
      "  File \"/home/user/youtube_project/youtube_data.py\", line 24, in __init__\n",
      "    self.mongodb_client = pymongo.MongoClient(self.mongodb_connection_string)\n",
      "                          ^^^^^^^^^^^^^^^^^^^^^^^^^^^^^^^^^^^^^^^^^^^^^^^^^^^\n",
      "  File \"/home/user/youtube_project/.venv/lib/python3.11/site-packages/pymongo/mongo_client.py\", line 788, in __init__\n",
      "    seeds.update(uri_parser.split_hosts(entity, port))\n",
      "                 ^^^^^^^^^^^^^^^^^^^^^^^^^^^^^^^^^^^^\n",
      "  File \"/home/user/youtube_project/.venv/lib/python3.11/site-packages/pymongo/uri_parser.py\", line 386, in split_hosts\n",
      "    raise ConfigurationError(\"Empty host (or extra comma in host list).\")\n",
      "pymongo.errors.ConfigurationError: Empty host (or extra comma in host list).\n",
      "2024-01-23 08:36:33.347 Uncaught app exception\n",
      "Traceback (most recent call last):\n",
      "  File \"/home/user/youtube_project/.venv/lib/python3.11/site-packages/streamlit/runtime/scriptrunner/script_runner.py\", line 535, in _run_script\n",
      "    exec(code, module.__dict__)\n",
      "  File \"/home/user/youtube_project/main_streamlit.py\", line 427, in <module>\n",
      "    main()\n",
      "  File \"/home/user/youtube_project/main_streamlit.py\", line 252, in main\n",
      "    col3, col4,col5,col6 = container.columns(4)\n",
      "                           ^^^^^^^^^\n",
      "NameError: name 'container' is not defined\n",
      "2024-01-23 08:41:32.297 Uncaught app exception\n",
      "Traceback (most recent call last):\n",
      "  File \"/home/user/youtube_project/.venv/lib/python3.11/site-packages/streamlit/runtime/scriptrunner/script_runner.py\", line 535, in _run_script\n",
      "    exec(code, module.__dict__)\n",
      "  File \"/home/user/youtube_project/main_streamlit.py\", line 411, in <module>\n",
      "    main()\n",
      "  File \"/home/user/youtube_project/main_streamlit.py\", line 252, in main\n",
      "    col3, col4,col5,col6 = container.columns(4)\n",
      "                           ^^^^^^^^^\n",
      "NameError: name 'container' is not defined\n",
      "2024-01-23 08:43:46.002 Uncaught app exception\n",
      "Traceback (most recent call last):\n",
      "  File \"/home/user/youtube_project/.venv/lib/python3.11/site-packages/streamlit/runtime/scriptrunner/script_runner.py\", line 535, in _run_script\n",
      "    exec(code, module.__dict__)\n",
      "  File \"/home/user/youtube_project/main_streamlit.py\", line 412, in <module>\n",
      "    main()\n",
      "  File \"/home/user/youtube_project/main_streamlit.py\", line 254, in main\n",
      "    selected_channel = col3.multiselect('Select Channel:', sorted(visualise.sql_query('select chanel_name from channels')),help='Select the Channel')\n",
      "                                                           ^^^^^^^^^^^^^^^^^^^^^^^^^^^^^^^^^^^^^^^^^^^^^^^^^^^^^^^^^^^^^^^\n",
      "TypeError: 'NoneType' object is not iterable\n",
      "2024-01-23 08:45:38.619 Uncaught app exception\n",
      "Traceback (most recent call last):\n",
      "  File \"/home/user/youtube_project/.venv/lib/python3.11/site-packages/streamlit/runtime/scriptrunner/script_runner.py\", line 535, in _run_script\n",
      "    exec(code, module.__dict__)\n",
      "  File \"/home/user/youtube_project/main_streamlit.py\", line 412, in <module>\n",
      "    main()\n",
      "  File \"/home/user/youtube_project/main_streamlit.py\", line 254, in main\n",
      "    selected_channel = col3.multiselect('Select Channel:', sorted(visualise.sql_query('select chanel_name from channels')),help='Select the Channel')\n",
      "                                                           ^^^^^^^^^^^^^^^^^^^^^^^^^^^^^^^^^^^^^^^^^^^^^^^^^^^^^^^^^^^^^^^\n",
      "TypeError: 'NoneType' object is not iterable\n",
      "2024-01-23 08:51:54.559 Uncaught app exception\n",
      "Traceback (most recent call last):\n",
      "  File \"/home/user/youtube_project/.venv/lib/python3.11/site-packages/streamlit/runtime/scriptrunner/script_runner.py\", line 535, in _run_script\n",
      "    exec(code, module.__dict__)\n",
      "  File \"/home/user/youtube_project/main_streamlit.py\", line 413, in <module>\n",
      "    main()\n",
      "  File \"/home/user/youtube_project/main_streamlit.py\", line 254, in main\n",
      "    channel_data_q = visualise.sql_query('SELECT channel_name FROM channels').tolist()\n",
      "                     ^^^^^^^^^^^^^^^^^^^^^^^^^^^^^^^^^^^^^^^^^^^^^^^^^^^^^^^^^^^^^^^\n",
      "  File \"/home/user/youtube_project/.venv/lib/python3.11/site-packages/pandas/core/generic.py\", line 6293, in __getattr__\n",
      "    return object.__getattribute__(self, name)\n",
      "           ^^^^^^^^^^^^^^^^^^^^^^^^^^^^^^^^^^^\n",
      "AttributeError: 'DataFrame' object has no attribute 'tolist'\n",
      "2024-01-23 08:52:02.071 Uncaught app exception\n",
      "Traceback (most recent call last):\n",
      "  File \"/home/user/youtube_project/.venv/lib/python3.11/site-packages/streamlit/runtime/scriptrunner/script_runner.py\", line 535, in _run_script\n",
      "    exec(code, module.__dict__)\n",
      "  File \"/home/user/youtube_project/main_streamlit.py\", line 413, in <module>\n",
      "    main()\n",
      "  File \"/home/user/youtube_project/main_streamlit.py\", line 254, in main\n",
      "    channel_data_q = visualise.sql_query('SELECT channel_name FROM channels').tolist()\n",
      "                     ^^^^^^^^^^^^^^^^^^^^^^^^^^^^^^^^^^^^^^^^^^^^^^^^^^^^^^^^^^^^^^^\n",
      "  File \"/home/user/youtube_project/.venv/lib/python3.11/site-packages/pandas/core/generic.py\", line 6293, in __getattr__\n",
      "    return object.__getattribute__(self, name)\n",
      "           ^^^^^^^^^^^^^^^^^^^^^^^^^^^^^^^^^^^\n",
      "AttributeError: 'DataFrame' object has no attribute 'tolist'\n",
      "2024-01-23 09:35:27.537 Uncaught app exception\n",
      "Traceback (most recent call last):\n",
      "  File \"/home/user/youtube_project/.venv/lib/python3.11/site-packages/streamlit/runtime/scriptrunner/script_runner.py\", line 535, in _run_script\n",
      "    exec(code, module.__dict__)\n",
      "  File \"/home/user/youtube_project/main_streamlit.py\", line 437, in <module>\n",
      "    main()\n",
      "  File \"/home/user/youtube_project/main_streamlit.py\", line 281, in main\n",
      "    st.dataframe(data,use_container_width=True)\n",
      "                 ^^^^\n",
      "UnboundLocalError: cannot access local variable 'data' where it is not associated with a value\n"
     ]
    }
   ],
   "source": [
    "youtube_pipeline.mongodb_channel_data(channel_id)"
   ]
  },
  {
   "cell_type": "code",
   "execution_count": 31,
   "metadata": {},
   "outputs": [
    {
     "data": {
      "text/plain": [
       "{'Channel_Name': 'Shyamsundar Dharwad',\n",
       " 'Channel_ID': 'UCA5w3NR1-79VgWz-pUnhIFg',\n",
       " 'Subscription_Count': '4',\n",
       " 'Channel_Views': '86',\n",
       " 'Channel_Description': '',\n",
       " 'Playlist_ID': 'UUA5w3NR1-79VgWz-pUnhIFg'}"
      ]
     },
     "execution_count": 31,
     "metadata": {},
     "output_type": "execute_result"
    }
   ],
   "source": [
    "youtube_pipeline.mongodb_channel_data('UCA5w3NR1-79VgWz-pUnhIFg')"
   ]
  },
  {
   "cell_type": "code",
   "execution_count": null,
   "metadata": {},
   "outputs": [],
   "source": [
    "youtube_pipeline.mongodb_videos_data('UCLlxwk8DUs8yF3xfAiuc0SQ')"
   ]
  },
  {
   "cell_type": "code",
   "execution_count": 24,
   "metadata": {},
   "outputs": [
    {
     "data": {
      "text/html": [
       "<div>\n",
       "<style scoped>\n",
       "    .dataframe tbody tr th:only-of-type {\n",
       "        vertical-align: middle;\n",
       "    }\n",
       "\n",
       "    .dataframe tbody tr th {\n",
       "        vertical-align: top;\n",
       "    }\n",
       "\n",
       "    .dataframe thead th {\n",
       "        text-align: right;\n",
       "    }\n",
       "</style>\n",
       "<table border=\"1\" class=\"dataframe\">\n",
       "  <thead>\n",
       "    <tr style=\"text-align: right;\">\n",
       "      <th></th>\n",
       "      <th>channel_id</th>\n",
       "      <th>channel_name</th>\n",
       "      <th>subscription_count</th>\n",
       "      <th>channel_views</th>\n",
       "      <th>channel_description</th>\n",
       "      <th>playlist_id</th>\n",
       "    </tr>\n",
       "  </thead>\n",
       "  <tbody>\n",
       "    <tr>\n",
       "      <th>0</th>\n",
       "      <td>UCQQtAQrZyCH54n-McGpC4ew</td>\n",
       "      <td>Muhammad Ali</td>\n",
       "      <td>326</td>\n",
       "      <td>7768</td>\n",
       "      <td>Hello world! I'm Ali, an AI engineer on a miss...</td>\n",
       "      <td>UUQQtAQrZyCH54n-McGpC4ew</td>\n",
       "    </tr>\n",
       "  </tbody>\n",
       "</table>\n",
       "</div>"
      ],
      "text/plain": [
       "                 channel_id  channel_name  subscription_count channel_views  \\\n",
       "0  UCQQtAQrZyCH54n-McGpC4ew  Muhammad Ali                 326          7768   \n",
       "\n",
       "                                 channel_description               playlist_id  \n",
       "0  Hello world! I'm Ali, an AI engineer on a miss...  UUQQtAQrZyCH54n-McGpC4ew  "
      ]
     },
     "execution_count": 24,
     "metadata": {},
     "output_type": "execute_result"
    }
   ],
   "source": [
    "youtube_pipeline.sql_query(f\"select * from channels where channel_id ='{channel_id}'\")\n"
   ]
  },
  {
   "cell_type": "code",
   "execution_count": 34,
   "metadata": {},
   "outputs": [
    {
     "data": {
      "text/html": [
       "<div>\n",
       "<style scoped>\n",
       "    .dataframe tbody tr th:only-of-type {\n",
       "        vertical-align: middle;\n",
       "    }\n",
       "\n",
       "    .dataframe tbody tr th {\n",
       "        vertical-align: top;\n",
       "    }\n",
       "\n",
       "    .dataframe thead th {\n",
       "        text-align: right;\n",
       "    }\n",
       "</style>\n",
       "<table border=\"1\" class=\"dataframe\">\n",
       "  <thead>\n",
       "    <tr style=\"text-align: right;\">\n",
       "      <th></th>\n",
       "      <th>video_id</th>\n",
       "      <th>video_name</th>\n",
       "      <th>video_description</th>\n",
       "      <th>tags</th>\n",
       "      <th>published_at</th>\n",
       "      <th>view_count</th>\n",
       "      <th>like_count</th>\n",
       "      <th>favorite_count</th>\n",
       "      <th>comment_count</th>\n",
       "      <th>duration</th>\n",
       "      <th>caption</th>\n",
       "      <th>thumbnail</th>\n",
       "      <th>playlist_id</th>\n",
       "    </tr>\n",
       "  </thead>\n",
       "  <tbody>\n",
       "  </tbody>\n",
       "</table>\n",
       "</div>"
      ],
      "text/plain": [
       "Empty DataFrame\n",
       "Columns: [video_id, video_name, video_description, tags, published_at, view_count, like_count, favorite_count, comment_count, duration, caption, thumbnail, playlist_id]\n",
       "Index: []"
      ]
     },
     "execution_count": 34,
     "metadata": {},
     "output_type": "execute_result"
    }
   ],
   "source": [
    "youtube_pipeline.sql_query(f\"select * from videos where playlist_id = 'UUQQtAQrZyCH54n-McGpC4ew' \")"
   ]
  },
  {
   "cell_type": "code",
   "execution_count": 38,
   "metadata": {},
   "outputs": [
    {
     "data": {
      "text/html": [
       "<div>\n",
       "<style scoped>\n",
       "    .dataframe tbody tr th:only-of-type {\n",
       "        vertical-align: middle;\n",
       "    }\n",
       "\n",
       "    .dataframe tbody tr th {\n",
       "        vertical-align: top;\n",
       "    }\n",
       "\n",
       "    .dataframe thead th {\n",
       "        text-align: right;\n",
       "    }\n",
       "</style>\n",
       "<table border=\"1\" class=\"dataframe\">\n",
       "  <thead>\n",
       "    <tr style=\"text-align: right;\">\n",
       "      <th></th>\n",
       "      <th>playlist_id</th>\n",
       "    </tr>\n",
       "  </thead>\n",
       "  <tbody>\n",
       "    <tr>\n",
       "      <th>0</th>\n",
       "      <td>UUQQtAQrZyCH54n-McGpC4ew</td>\n",
       "    </tr>\n",
       "  </tbody>\n",
       "</table>\n",
       "</div>"
      ],
      "text/plain": [
       "                playlist_id\n",
       "0  UUQQtAQrZyCH54n-McGpC4ew"
      ]
     },
     "execution_count": 38,
     "metadata": {},
     "output_type": "execute_result"
    }
   ],
   "source": [
    "playlist_id = youtube_pipeline.sql_query(f\"SELECT playlist_id FROM channels WHERE channel_id = '{channel_id}'\")\n",
    "playlist_id"
   ]
  },
  {
   "cell_type": "code",
   "execution_count": 37,
   "metadata": {},
   "outputs": [
    {
     "data": {
      "text/html": [
       "<div>\n",
       "<style scoped>\n",
       "    .dataframe tbody tr th:only-of-type {\n",
       "        vertical-align: middle;\n",
       "    }\n",
       "\n",
       "    .dataframe tbody tr th {\n",
       "        vertical-align: top;\n",
       "    }\n",
       "\n",
       "    .dataframe thead th {\n",
       "        text-align: right;\n",
       "    }\n",
       "</style>\n",
       "<table border=\"1\" class=\"dataframe\">\n",
       "  <thead>\n",
       "    <tr style=\"text-align: right;\">\n",
       "      <th></th>\n",
       "      <th>video_id</th>\n",
       "    </tr>\n",
       "  </thead>\n",
       "  <tbody>\n",
       "  </tbody>\n",
       "</table>\n",
       "</div>"
      ],
      "text/plain": [
       "Empty DataFrame\n",
       "Columns: [video_id]\n",
       "Index: []"
      ]
     },
     "execution_count": 37,
     "metadata": {},
     "output_type": "execute_result"
    }
   ],
   "source": [
    "youtube_pipeline.sql_query(f\"SELECT video_id FROM videos WHERE playlist_id = '{playlist_id}'\")"
   ]
  },
  {
   "cell_type": "code",
   "execution_count": 14,
   "metadata": {},
   "outputs": [
    {
     "data": {
      "text/html": [
       "<div>\n",
       "<style scoped>\n",
       "    .dataframe tbody tr th:only-of-type {\n",
       "        vertical-align: middle;\n",
       "    }\n",
       "\n",
       "    .dataframe tbody tr th {\n",
       "        vertical-align: top;\n",
       "    }\n",
       "\n",
       "    .dataframe thead th {\n",
       "        text-align: right;\n",
       "    }\n",
       "</style>\n",
       "<table border=\"1\" class=\"dataframe\">\n",
       "  <thead>\n",
       "    <tr style=\"text-align: right;\">\n",
       "      <th></th>\n",
       "      <th>channel_id</th>\n",
       "      <th>channel_name</th>\n",
       "      <th>subscription_count</th>\n",
       "      <th>channel_views</th>\n",
       "      <th>channel_description</th>\n",
       "      <th>playlist_id</th>\n",
       "    </tr>\n",
       "  </thead>\n",
       "  <tbody>\n",
       "    <tr>\n",
       "      <th>0</th>\n",
       "      <td>UCQQtAQrZyCH54n-McGpC4ew</td>\n",
       "      <td>Muhammad Ali</td>\n",
       "      <td>326</td>\n",
       "      <td>7768</td>\n",
       "      <td>Hello world! I'm Ali, an AI engineer on a miss...</td>\n",
       "      <td>UUQQtAQrZyCH54n-McGpC4ew</td>\n",
       "    </tr>\n",
       "  </tbody>\n",
       "</table>\n",
       "</div>"
      ],
      "text/plain": [
       "                 channel_id  channel_name  subscription_count channel_views  \\\n",
       "0  UCQQtAQrZyCH54n-McGpC4ew  Muhammad Ali                 326          7768   \n",
       "\n",
       "                                 channel_description               playlist_id  \n",
       "0  Hello world! I'm Ali, an AI engineer on a miss...  UUQQtAQrZyCH54n-McGpC4ew  "
      ]
     },
     "execution_count": 14,
     "metadata": {},
     "output_type": "execute_result"
    }
   ],
   "source": [
    "youtube_pipeline.sql_query(f\"select * from channels where channel_id ='{channel_id}'\")"
   ]
  }
 ],
 "metadata": {
  "kernelspec": {
   "display_name": ".venv",
   "language": "python",
   "name": "python3"
  },
  "language_info": {
   "codemirror_mode": {
    "name": "ipython",
    "version": 3
   },
   "file_extension": ".py",
   "mimetype": "text/x-python",
   "name": "python",
   "nbconvert_exporter": "python",
   "pygments_lexer": "ipython3",
   "version": "3.11.6"
  }
 },
 "nbformat": 4,
 "nbformat_minor": 2
}
